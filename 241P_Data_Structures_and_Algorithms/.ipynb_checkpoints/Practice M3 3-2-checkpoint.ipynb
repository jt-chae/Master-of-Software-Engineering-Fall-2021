{
 "cells": [
  {
   "cell_type": "code",
   "execution_count": 15,
   "metadata": {},
   "outputs": [
    {
     "name": "stdout",
     "output_type": "stream",
     "text": [
      "Your list is: \n",
      "a\n",
      "b\n",
      "c\n",
      " \n",
      "Your reverse list is: \n",
      "c\n",
      "b\n",
      "a\n",
      " \n"
     ]
    }
   ],
   "source": [
    "\n",
    "class Node(): #create a node, this is a single node of a singly linked list,a Node class that holds some data\n",
    "    # constructor, define a method inside class Node to initialize the object's attribute \n",
    "    def __init__(self, item): #passing the parameters of node \"self\", and data \"value\"\n",
    "        self.item = item  #this atribute will hold some data \n",
    "        self.next = None #this attribute initialize a single pointer \"next\" that will be used to point to the next Node type object in the Linked List\n",
    "\n",
    "class LinkedList(): # A Linked List class with a single head node\n",
    "    def __init__(self): #define a method inside a class to initialize the object's attributes, called whenever an ojbect is created\n",
    "        self.head = None #initialize head of linked list to None\n",
    "        self.tail = None #initialize tail of linked list to None\n",
    "\n",
    "    def add_node(self, item): #define a method inside a class, this method is to add a node to the linked list\n",
    "        if self.head is None: #In case the list is still empty the new node becomes the head of the list\n",
    "            self.head = Node(item) #create the head of the linked list with a Node object with the data \"item\"\n",
    "            self.tail = self.head #this attribute create an arbitrary tail of the linked list\n",
    "        else: #if \"item\" is not a List Node, then create one\n",
    "            node = Node(item) #create the \"Node\" class object \"node\" with the data \"item\", this is when __init_ method in Node class is called\n",
    "            self.tail.next = node #the reference pointer to the next node\n",
    "            self.tail = node #If a node is already in the list, then the value of tail is adjusted accordingly\n",
    "            \n",
    "    def output_list(self): #create a method to print out the linked list\n",
    "        current_node = self.head #start from the head of the linked list by assigning the head to the variable \"current node\"\n",
    "\n",
    "        while current_node is not None: #if there is a \"current_node\"\n",
    "            print(current_node.item) #then print out the data of that node\n",
    "\n",
    "            current_node = current_node.next #pointer to go to the next linked node\n",
    "        print(\" \")\n",
    "    def reverse(self): #class method to reverse the linked list object\n",
    "        previous_node = None #initialize the previous node to None\n",
    "        current_node = self.head #initialize the current node to the head of the list\n",
    "        \n",
    "        while current_node: #while current is not None/ node is not NUll/ not at the end of the list\n",
    "            temp = current_node.next #store the pointer of the next node\n",
    "            current_node.next = previous_node #inverse the pointer going to b to a instead of b to c\n",
    "            previous_node = current_node #assign the current node to the previous node\n",
    "            #print(\"previous: \", previous_node.item)\n",
    "            current_node = temp #current node is updated to the next one that it is going to\n",
    "            #print(\"current: \", current_node.item)\n",
    "        self.head = previous_node #set the head of the list to the last node value\n",
    "        \n",
    "        \n",
    "#check code with outputs      \n",
    "input = LinkedList() #create a LinkedList object\n",
    "\n",
    "input.add_node(\"a\")\n",
    "input.add_node(\"b\")\n",
    "input.add_node(\"c\")\n",
    "print (\"Your list is: \")\n",
    "input.output_list()\n",
    "print (\"Your reverse list is: \")\n",
    "input.reverse()\n",
    "input.output_list()"
   ]
  },
  {
   "cell_type": "code",
   "execution_count": null,
   "metadata": {},
   "outputs": [],
   "source": []
  }
 ],
 "metadata": {
  "kernelspec": {
   "display_name": "Python 3",
   "language": "python",
   "name": "python3"
  },
  "language_info": {
   "codemirror_mode": {
    "name": "ipython",
    "version": 3
   },
   "file_extension": ".py",
   "mimetype": "text/x-python",
   "name": "python",
   "nbconvert_exporter": "python",
   "pygments_lexer": "ipython3",
   "version": "3.8.5"
  }
 },
 "nbformat": 4,
 "nbformat_minor": 4
}
