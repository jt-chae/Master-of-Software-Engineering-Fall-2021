{
 "cells": [
  {
   "cell_type": "code",
   "execution_count": 2,
   "metadata": {},
   "outputs": [],
   "source": [
    "#Practice M3\n",
    "# 3-20\n",
    "#Write a function to find the middle node of a singly linked list"
   ]
  },
  {
   "cell_type": "code",
   "execution_count": 35,
   "metadata": {},
   "outputs": [
    {
     "name": "stdout",
     "output_type": "stream",
     "text": [
      "Your list is: \n",
      "0\n",
      "1\n",
      "2\n",
      "3\n",
      "4\n",
      "5\n",
      "6\n",
      "The middle node is:  3\n",
      "\n"
     ]
    }
   ],
   "source": [
    "# Python3 program to find middle of linked list\n",
    "# Node class\n",
    "class Node(): #create a node, this is a single node of a singly linked list,a Node class that holds some data\n",
    "    # constructor, define a method inside class Node to initialize the object's attribute \n",
    "    def __init__(self, item): #passing the parameters of node \"self\", and data \"value\"\n",
    "        self.item = item  #this atribute will hold some data \n",
    "        self.next = None #this attribute initialize a single pointer \"next\" that will be used to point to the next Node type object in the Linked List\n",
    "\n",
    "class LinkedList(): # A Linked List class with a single head node\n",
    "    def __init__(self): #define a method inside a class to initialize the object's attributes, called whenever an ojbect is created\n",
    "        self.head = None #initialize head of linked list to None\n",
    "        self.tail = None #initialize tail of linked list to None\n",
    "\n",
    "    def add_node(self, item): #define a method inside a class, this method is to add a node to the linked list\n",
    "        if self.head is None: #In case the list is still empty the new node becomes the head of the list\n",
    "            self.head = Node(item) #create the head of the linked list with a Node object with the data \"item\"\n",
    "            self.tail = self.head #this attribute create an arbitrary tail of the linked list\n",
    "        else: #if \"item\" is not a List Node, then create one\n",
    "            node = Node(item) #create the \"Node\" class object \"node\" with the data \"item\", this is when __init_ method in Node class is called\n",
    "            self.tail.next = node #the reference pointer to the next node\n",
    "            self.tail = node #If a node is already in the list, then the value of tail is adjusted accordingly\n",
    "            \n",
    "    def output_list(self): #create a method to print out the linked list\n",
    "        current_node = self.head #start from the head of the linked list by assigning the head to the variable \"current node\"\n",
    "        print (\"Your list is: \")\n",
    "        while current_node is not None: #if there is a \"current_node\"\n",
    "            print(current_node.item) #then print out the data of that node\n",
    "\n",
    "            current_node = current_node.next #pointer to go to the next linked node\n",
    "        #print(\" \")\n",
    "        \n",
    "    def middle_node(self):  # class method to return the middle node\n",
    "        slow = self.head # initialize \"slow\" pointer to go one step a time \n",
    "        fast = self.head # initialize \"fast\" pointer to go two at a time \n",
    "       \n",
    "        while fast and fast.next:  # iterate through the linked list until the fast reaches the end of the linked list\n",
    "            slow = slow.next #go to the next node (1 at a time)\n",
    "            fast = fast.next.next #go to the next next node (2 at a time)\n",
    "         \n",
    "        print(\"The middle node is: \", slow.item) # The slow value is the middle element\n",
    "        print()\n",
    "\n",
    "#check code\n",
    "linked_list = LinkedList()\n",
    "   \n",
    "for i in range(0, 7, 1):\n",
    "    linked_list.add_node(i)\n",
    "    linked_list.output_list()\n",
    "    linked_list.middle_node()\n",
    " "
   ]
  },
  {
   "cell_type": "code",
   "execution_count": null,
   "metadata": {},
   "outputs": [],
   "source": []
  }
 ],
 "metadata": {
  "kernelspec": {
   "display_name": "Python 3",
   "language": "python",
   "name": "python3"
  },
  "language_info": {
   "codemirror_mode": {
    "name": "ipython",
    "version": 3
   },
   "file_extension": ".py",
   "mimetype": "text/x-python",
   "name": "python",
   "nbconvert_exporter": "python",
   "pygments_lexer": "ipython3",
   "version": "3.8.5"
  }
 },
 "nbformat": 4,
 "nbformat_minor": 4
}
